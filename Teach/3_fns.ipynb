{
 "cells": [
  {
   "cell_type": "markdown",
   "metadata": {},
   "source": [
    "# Discussion: Functions\n",
    "\n",
    "## Agenda\n",
    "\n",
    "1. function basics\n",
    "    - definition\n",
    "    - docstrings\n",
    "    - return value(s)\n",
    "    - invocation\n",
    "    - extra: stubbing out with `pass`\n",
    "    - local variables and global references (and `global`)\n",
    "3. function parameters\n",
    "    - regular (\"formal\")\n",
    "    - default values\n",
    "    - arbitrary length arg-lists\n",
    "    - keyword dictionary\n",
    "    - invocation and unpacking\n",
    "4. higher order functions\n",
    "    - e.g., `sort`\n",
    "4. lambda expressions\n",
    "    - for use with, e.g., `sort`, `filter`\n",
    "5. modules, namespacing, and `import`"
   ]
  },
  {
   "cell_type": "markdown",
   "metadata": {},
   "source": [
    "## Function basics"
   ]
  },
  {
   "cell_type": "code",
   "execution_count": null,
   "metadata": {
    "collapsed": true
   },
   "outputs": [],
   "source": [
    "def foo():\n",
    "    pass\n",
    "\n",
    "def bar():\n",
    "    foo()\n",
    "    \n",
    "bar()"
   ]
  },
  {
   "cell_type": "code",
   "execution_count": null,
   "metadata": {},
   "outputs": [],
   "source": [
    "# some basic mechanisms\n",
    "\n",
    "from math import sqrt\n",
    "def quadratic_roots(a, b, c):\n",
    "    \"\"\"Computes the real-valued quadratic roots for the\n",
    "    quadratic equation with coefficients a, b, c. Returns\n",
    "    either None or a tuple containing 1 or 2 values.\"\"\"\n",
    "    discr = b**2 - 4*a*c\n",
    "    if discr < 0:\n",
    "        return None\n",
    "    r1 = (-b+sqrt(discr)) / (2*a)\n",
    "    r2 = (-b-sqrt(discr)) / (2*a)\n",
    "    if r1 == r2:\n",
    "        return (r1,)\n",
    "    else:\n",
    "        return (r1, r2)"
   ]
  },
  {
   "cell_type": "code",
   "execution_count": null,
   "metadata": {},
   "outputs": [],
   "source": [
    "# on local variables and global references\n",
    "\n",
    "g = 100\n",
    "\n",
    "def foo(x):\n",
    "    g = x * 2\n",
    "    return g"
   ]
  },
  {
   "cell_type": "markdown",
   "metadata": {},
   "source": [
    "## Function parameters"
   ]
  },
  {
   "cell_type": "code",
   "execution_count": null,
   "metadata": {},
   "outputs": [],
   "source": [
    "def foo(x):\n",
    "    return x\n",
    "\n",
    "foo(5)"
   ]
  },
  {
   "cell_type": "code",
   "execution_count": null,
   "metadata": {},
   "outputs": [],
   "source": [
    "def print_char_sheet(name,         # normal arg\n",
    "                     *inventory,   # arbitrary num of args in tuple\n",
    "                     race='Human', # keyword arg with default\n",
    "                     **info):      # arbitrary keyword args in dict    \n",
    "    \"\"\"Demonstrates all sorts of arg types.\"\"\"\n",
    "    print('Name: ', name)\n",
    "    print('Race: ', race)\n",
    "    print('Inventory:')\n",
    "    for item in inventory:\n",
    "        print(' -', item)\n",
    "    for k in sorted(info.keys()):\n",
    "        print('*', k, '=', info[k])"
   ]
  },
  {
   "cell_type": "code",
   "execution_count": null,
   "metadata": {},
   "outputs": [],
   "source": [
    "a, b, *c = [1, 2, 3, 4, 5]\n",
    "a, b, c"
   ]
  },
  {
   "cell_type": "markdown",
   "metadata": {},
   "source": [
    "## Higher order functions"
   ]
  },
  {
   "cell_type": "code",
   "execution_count": null,
   "metadata": {},
   "outputs": [],
   "source": [
    "def mysum(x, y):\n",
    "    return x+y\n",
    "\n",
    "print(mysum(1, 2))\n",
    "print(mysum('hello', 'world'))"
   ]
  },
  {
   "cell_type": "code",
   "execution_count": null,
   "metadata": {
    "collapsed": true
   },
   "outputs": [],
   "source": [
    "def mysum_v2(vals):\n",
    "    \"\"\"This version takes a list of vals to add\"\"\"\n",
    "    accum = 0\n",
    "    for item in vals:\n",
    "        accum += item\n",
    "    return accum\n",
    "\n",
    "print(mysum_v2([1, 2, 3, 4, 5]))\n",
    "print(mysum_v2(range(10)))\n",
    "print(mysum_v2(['hello', 'world']))"
   ]
  },
  {
   "cell_type": "code",
   "execution_count": null,
   "metadata": {
    "collapsed": true
   },
   "outputs": [],
   "source": [
    "def mysum_v3(vals, start):\n",
    "    \"\"\"This version also takes a start value\"\"\"\n",
    "    accum = start\n",
    "    for item in vals:\n",
    "        accum += item\n",
    "    return accum\n",
    "\n",
    "print(mysum_v3([1, 2, 3, 4, 5], 0))\n",
    "print(mysum_v3(['hello', 'world'], ''))\n",
    "print(mysum_v3([(1, 2), (), (5,)], ()))"
   ]
  },
  {
   "cell_type": "code",
   "execution_count": null,
   "metadata": {
    "collapsed": true
   },
   "outputs": [],
   "source": [
    "def mysum_v4(vals, start=0):\n",
    "    \"\"\"This version defaults to using 0 for start\"\"\"\n",
    "    accum = start\n",
    "    for item in vals:\n",
    "        accum += item\n",
    "    return accum\n",
    "\n",
    "print(mysum_v4([1, 2, 3, 4, 5]))\n",
    "print(mysum_v4(['hello', 'world'], ''))\n",
    "print(mysum_v4(['hello', 'world'], start=''))\n",
    "print(mysum_v4(start='-->', vals=['a', 'b', 'c']))"
   ]
  },
  {
   "cell_type": "code",
   "execution_count": null,
   "metadata": {},
   "outputs": [],
   "source": [
    "def mysum_v5(*vals, start=0):\n",
    "    \"\"\"This version takes an arbitrary number of\n",
    "    arguments that are automatically bundled into\n",
    "    the vals variable.\"\"\"\n",
    "    accum = start\n",
    "    for item in vals:\n",
    "        accum += item\n",
    "    return accum\n",
    "\n",
    "print(mysum_v5(1, 2, 3, 4))\n",
    "print(mysum_v5('hello', ' ', 'world', start='>'))\n",
    "args = [10, 20, 30] + list(range(40, 110, 10))\n",
    "print(mysum_v5(*args)) # \"unpack\" args from list"
   ]
  },
  {
   "cell_type": "code",
   "execution_count": null,
   "metadata": {},
   "outputs": [],
   "source": [
    "def reduce(combiner, *vals, start=0):\n",
    "    \"\"\"Combines all items in vals with the provided\n",
    "    combiner function and start value\"\"\"\n",
    "    accum = start\n",
    "    for item in vals:\n",
    "        accum = combiner(accum, item)\n",
    "    return accum\n",
    "\n",
    "def add(m, n):\n",
    "    return m+n\n",
    "\n",
    "print(reduce(add, 1, 2, 3, 4))\n",
    "print(reduce(add, 'hello', 'world', start=''))"
   ]
  },
  {
   "cell_type": "code",
   "execution_count": null,
   "metadata": {},
   "outputs": [],
   "source": [
    "def mult(m, n):\n",
    "    return m*n\n",
    "\n",
    "print(reduce(mult, 1, 2, 3, 4))\n",
    "print(reduce(mult, 1, 2, 3, 4, start=1))"
   ]
  },
  {
   "cell_type": "markdown",
   "metadata": {},
   "source": [
    "## Lambda expressions"
   ]
  },
  {
   "cell_type": "code",
   "execution_count": null,
   "metadata": {},
   "outputs": [],
   "source": [
    "add  = lambda m, n: m+n\n",
    "mult = lambda m, n: m*n\n",
    "pow_of_2 = lambda x: 2**x"
   ]
  },
  {
   "cell_type": "code",
   "execution_count": null,
   "metadata": {
    "collapsed": true
   },
   "outputs": [],
   "source": [
    "# anonymous lambda expression application"
   ]
  },
  {
   "cell_type": "code",
   "execution_count": null,
   "metadata": {},
   "outputs": [],
   "source": [
    "print(reduce(lambda x,y: x*y, 1, 2, 3, 4, start=1))\n",
    "print(reduce(lambda sos,n: sos + n**2, 1, 2, 3, 4))\n",
    "print(reduce(lambda total, s: total + len(s),\n",
    "             'hello', 'beautiful', 'world'))\n",
    "print(reduce(lambda s, l: s & set(l), # set intersect\n",
    "             range(0,10), range(5,20), range(8,12),\n",
    "             start=set(range(0,100))))"
   ]
  },
  {
   "cell_type": "markdown",
   "metadata": {},
   "source": [
    "## Modules, Namespacing, and `import`"
   ]
  },
  {
   "cell_type": "code",
   "execution_count": null,
   "metadata": {
    "collapsed": true
   },
   "outputs": [],
   "source": [
    "# create a module and import it!"
   ]
  },
  {
   "cell_type": "markdown",
   "metadata": {},
   "source": [
    "## References and Further reading\n",
    "\n",
    "- [Defining functions](https://docs.python.org/3/tutorial/controlflow.html#defining-functions)\n",
    "- [More on defining functions](https://docs.python.org/3/tutorial/controlflow.html#more-on-defining-functions)\n",
    "- [`sorted`](https://docs.python.org/3/library/functions.html#sorted) and [`filter`](https://docs.python.org/3/library/functions.html#filter)"
   ]
  }
 ],
 "metadata": {
  "kernelspec": {
   "display_name": "Python 3",
   "language": "python",
   "name": "python3"
  },
  "language_info": {
   "codemirror_mode": {
    "name": "ipython",
    "version": 3
   },
   "file_extension": ".py",
   "mimetype": "text/x-python",
   "name": "python",
   "nbconvert_exporter": "python",
   "pygments_lexer": "ipython3",
   "version": "3.6.1"
  }
 },
 "nbformat": 4,
 "nbformat_minor": 1
}
